#!/usr/bin/env python3
# -*- coding: utf-8 -*-
#"""
#Created on Wed Feb  7 21:03:15 2018

#@author: dustinscarter
#"""


#Write a program that will inform the user to wear sunglasses if its sunny outside
#// if it's sunny
#    // print "Wear sunglasses!"
#
#// else
#    // print "Don't wear sunglasses."

outside = "cloudy"

if outside == "sunny":
    print("Wear sunglasses")
else: 
    print("Don't wear sunglasses")